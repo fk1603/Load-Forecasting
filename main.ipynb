{
 "cells": [
  {
   "cell_type": "markdown",
   "id": "59c9f191",
   "metadata": {},
   "source": [
    "# Load Forecasting\n",
    "### 1. Data manipulation"
   ]
  },
  {
   "cell_type": "markdown",
   "id": "d31c48a6",
   "metadata": {},
   "source": [
    "Start by merging the load data and covariate data"
   ]
  },
  {
   "cell_type": "code",
   "execution_count": null,
   "id": "8a35aeb9",
   "metadata": {},
   "outputs": [],
   "source": [
    "import os\n",
    "import numpy as np\n",
    "import pandas as pd\n",
    "import matplotlib.pyplot as plt\n",
    "\n",
    "plt.figure(figsize=(12, 6))"
   ]
  },
  {
   "cell_type": "code",
   "execution_count": 63,
   "id": "e0b443ba",
   "metadata": {},
   "outputs": [
    {
     "name": "stdout",
     "output_type": "stream",
     "text": [
      "                                Time (UTC)  \\\n",
      "0      01.01.2015 00:00 - 01.01.2015 01:00   \n",
      "1      01.01.2015 01:00 - 01.01.2015 02:00   \n",
      "2      01.01.2015 02:00 - 01.01.2015 03:00   \n",
      "3      01.01.2015 03:00 - 01.01.2015 04:00   \n",
      "4      01.01.2015 04:00 - 01.01.2015 05:00   \n",
      "...                                    ...   \n",
      "87667  31.12.2024 19:00 - 31.12.2024 20:00   \n",
      "87668  31.12.2024 20:00 - 31.12.2024 21:00   \n",
      "87669  31.12.2024 21:00 - 31.12.2024 22:00   \n",
      "87670  31.12.2024 22:00 - 31.12.2024 23:00   \n",
      "87671  31.12.2024 23:00 - 01.01.2025 00:00   \n",
      "\n",
      "       Day-ahead Total Load Forecast [MW] - BZN|SE4  \\\n",
      "0                                            2718.0   \n",
      "1                                            2660.0   \n",
      "2                                            2606.0   \n",
      "3                                            2600.0   \n",
      "4                                            2642.0   \n",
      "...                                             ...   \n",
      "87667                                        2606.0   \n",
      "87668                                        2523.0   \n",
      "87669                                        2462.0   \n",
      "87670                                        2390.0   \n",
      "87671                                        2298.0   \n",
      "\n",
      "       Actual Total Load [MW] - BZN|SE4  temperature   humidity  solar  \n",
      "0                                2267.0     4.451320  86.611602    0.0  \n",
      "1                                2281.0     4.217264  85.613668    0.0  \n",
      "2                                2313.0     4.302403  85.022984    0.0  \n",
      "3                                2372.0     4.207889  86.857752    0.0  \n",
      "4                                2424.0     4.572334  85.142699    0.0  \n",
      "...                                 ...          ...        ...    ...  \n",
      "87667                            2414.0     5.179142  93.402829    0.0  \n",
      "87668                            2313.0     5.054718  93.775552    0.0  \n",
      "87669                            2231.0     5.103017  92.447421    0.0  \n",
      "87670                            2219.0     5.038400  92.905958    0.0  \n",
      "87671                            2168.0     5.170554  93.280124    0.0  \n",
      "\n",
      "[87672 rows x 6 columns]\n"
     ]
    }
   ],
   "source": [
    "# Read processed load data\n",
    "base_dir = os.getcwd()\n",
    "load_file_path = os.path.join(base_dir, 'processed_loadUTC_data.csv')\n",
    "load_data = pd.read_csv(load_file_path)\n",
    "#print(load_data.head())\n",
    "\n",
    "# Read processed temperature data\n",
    "temperature_file_path = os.path.join(base_dir, 'weighted_avg_temp.csv')\n",
    "avg_temperature_data = pd.read_csv(temperature_file_path)\n",
    "#print(avg_temperature_data.head())\n",
    "\n",
    "# Read processed humidity data\n",
    "humidity_file_path = os.path.join(base_dir, 'weighted_avg_humidity.csv')\n",
    "avg_humidity_data = pd.read_csv(humidity_file_path)\n",
    "#print(avg_humidity_data.head())\n",
    "\n",
    "# Read processed solar irradiation data\n",
    "solar_file_path = os.path.join(base_dir, 'weighted_avg_solar.csv')\n",
    "avg_solar_data = pd.read_csv(solar_file_path)\n",
    "#print(avg_solar_data.head())\n",
    "\n",
    "data = load_data.copy()\n",
    "data['temperature'] = avg_temperature_data['weighted_avg'].values\n",
    "data['humidity'] = avg_humidity_data['weighted_avg'].values\n",
    "data['solar'] = avg_solar_data['weighted_avg'].values\n",
    "print(data)"
   ]
  },
  {
   "cell_type": "markdown",
   "id": "050ed95b",
   "metadata": {},
   "source": [
    "In this section we implement the machine learning models. We start with our benchmark model which will later be used to compare the reaults of our 'advanced' models."
   ]
  },
  {
   "cell_type": "code",
   "execution_count": 72,
   "id": "93779c21",
   "metadata": {},
   "outputs": [
    {
     "name": "stderr",
     "output_type": "stream",
     "text": [
      "DeprecationWarning: `TimeSeries.pd_dataframe()` is deprecated, and will be removed in Darts version 0.35.0. Use `TimeSeries.to_dataframe()` instead\n"
     ]
    },
    {
     "name": "stdout",
     "output_type": "stream",
     "text": [
      "component            Actual Total Load [MW] - BZN|SE4\n",
      "Timestamp                                            \n",
      "2025-01-01 00:00:00                            2100.0\n",
      "2025-01-01 01:00:00                            2089.0\n",
      "2025-01-01 02:00:00                            2017.0\n",
      "2025-01-01 03:00:00                            2050.0\n",
      "2025-01-01 04:00:00                            2134.0\n",
      "...                                               ...\n",
      "2025-12-31 19:00:00                            2393.0\n",
      "2025-12-31 20:00:00                            2266.0\n",
      "2025-12-31 21:00:00                            2246.0\n",
      "2025-12-31 22:00:00                            2172.0\n",
      "2025-12-31 23:00:00                            2073.0\n",
      "\n",
      "[8760 rows x 1 columns]\n"
     ]
    },
    {
     "data": {
      "text/plain": [
       "<Axes: xlabel='Timestamp'>"
      ]
     },
     "execution_count": 72,
     "metadata": {},
     "output_type": "execute_result"
    },
    {
     "data": {
      "image/png": "[encoded data removed]",
      "text/plain": [
       "<Figure size 640x480 with 1 Axes>"
      ]
     },
     "metadata": {},
     "output_type": "display_data"
    }
   ],
   "source": [
    "from darts.models import NaiveSeasonal\n",
    "from darts import TimeSeries\n",
    "\n",
    "#filepath = os.path.join(\"LoadData\", \"total_loadUTC_data.csv\")\n",
    "#data = pd.read_csv(filepath)\n",
    "#data = pd.read_csv(filepath)\n",
    "\n",
    "# Extract start timestamp (from \"01.01.2015 00:00 - 01.01.2015 01:00\")\n",
    "load_data['Timestamp'] = pd.to_datetime(\n",
    "    load_data['Time (UTC)'].str.split(' - ').str[0],\n",
    "    format='%d.%m.%Y %H:%M'\n",
    ")\n",
    "\n",
    "# Set timestamp as index\n",
    "load_data.set_index('Timestamp', inplace=True)\n",
    "\n",
    "# Select one target column only (univariate series)\n",
    "forecast_data = load_data['Actual Total Load [MW] - BZN|SE4']\n",
    "\n",
    "# Create TimeSeries object\n",
    "series = TimeSeries.from_series(forecast_data)\n",
    "\n",
    "model = NaiveSeasonal(K=168) # weekly seasonality\n",
    "model.fit(series)\n",
    "pred = model.predict(8760) # change this to number of hours to be plotted\n",
    "print(pred.pd_dataframe())\n",
    "pred.plot(label=\"forecast\", lw=1)"
   ]
  },
  {
   "cell_type": "markdown",
   "id": "c4c07df4",
   "metadata": {},
   "source": [
    "Including holidays as covariate"
   ]
  },
  {
   "cell_type": "code",
   "execution_count": 65,
   "id": "42c6efa5",
   "metadata": {},
   "outputs": [
    {
     "name": "stdout",
     "output_type": "stream",
     "text": [
      "{datetime.date(2017, 5, 1), datetime.date(2020, 10, 31), datetime.date(2020, 12, 24), datetime.date(2019, 1, 1), datetime.date(2022, 4, 17), datetime.date(2021, 6, 25), datetime.date(2022, 6, 6), datetime.date(2020, 6, 6), datetime.date(2018, 12, 25), datetime.date(2016, 12, 26), datetime.date(2018, 6, 23), datetime.date(2019, 5, 30), datetime.date(2019, 11, 2), datetime.date(2021, 12, 31), datetime.date(2015, 6, 6), datetime.date(2015, 5, 14), datetime.date(2023, 6, 23), datetime.date(2024, 5, 19), datetime.date(2022, 12, 31), datetime.date(2021, 4, 5), datetime.date(2016, 1, 6), datetime.date(2019, 4, 21), datetime.date(2018, 4, 2), datetime.date(2021, 5, 13), datetime.date(2015, 5, 24), datetime.date(2020, 4, 12), datetime.date(2024, 3, 31), datetime.date(2024, 1, 6), datetime.date(2024, 3, 29), datetime.date(2016, 5, 1), datetime.date(2020, 12, 31), datetime.date(2021, 1, 6), datetime.date(2021, 4, 4), datetime.date(2018, 5, 20), datetime.date(2020, 5, 31), datetime.date(2019, 12, 25), datetime.date(2022, 1, 1), datetime.date(2021, 11, 6), datetime.date(2015, 1, 6), datetime.date(2017, 5, 25), datetime.date(2015, 12, 26), datetime.date(2020, 5, 1), datetime.date(2024, 12, 24), datetime.date(2015, 4, 6), datetime.date(2021, 12, 25), datetime.date(2016, 6, 6), datetime.date(2018, 1, 6), datetime.date(2020, 1, 1), datetime.date(2019, 4, 22), datetime.date(2024, 6, 21), datetime.date(2016, 1, 1), datetime.date(2018, 5, 10), datetime.date(2018, 6, 22), datetime.date(2022, 1, 6), datetime.date(2017, 4, 17), datetime.date(2024, 12, 31), datetime.date(2016, 5, 5), datetime.date(2017, 6, 6), datetime.date(2021, 5, 1), datetime.date(2019, 1, 6), datetime.date(2022, 6, 5), datetime.date(2015, 1, 1), datetime.date(2017, 6, 24), datetime.date(2017, 6, 23), datetime.date(2024, 6, 22), datetime.date(2019, 5, 1), datetime.date(2022, 11, 5), datetime.date(2020, 1, 6), datetime.date(2022, 6, 25), datetime.date(2024, 5, 1), datetime.date(2024, 11, 2), datetime.date(2023, 6, 6), datetime.date(2023, 4, 7), datetime.date(2016, 3, 27), datetime.date(2021, 6, 26), datetime.date(2017, 11, 4), datetime.date(2023, 5, 28), datetime.date(2015, 12, 31), datetime.date(2024, 5, 9), datetime.date(2022, 12, 25), datetime.date(2015, 10, 31), datetime.date(2017, 12, 31), datetime.date(2016, 5, 15), datetime.date(2020, 6, 19), datetime.date(2024, 12, 25), datetime.date(2024, 12, 26), datetime.date(2021, 12, 26), datetime.date(2017, 4, 14), datetime.date(2021, 6, 6), datetime.date(2020, 4, 13), datetime.date(2021, 5, 23), datetime.date(2022, 12, 24), datetime.date(2017, 12, 25), datetime.date(2018, 6, 6), datetime.date(2020, 12, 26), datetime.date(2019, 6, 21), datetime.date(2015, 5, 1), datetime.date(2023, 12, 25), datetime.date(2015, 6, 20), datetime.date(2018, 3, 30), datetime.date(2023, 6, 24), datetime.date(2018, 1, 1), datetime.date(2016, 3, 28), datetime.date(2019, 12, 31), datetime.date(2016, 12, 25), datetime.date(2018, 11, 3), datetime.date(2021, 1, 1), datetime.date(2015, 12, 25), datetime.date(2023, 5, 18), datetime.date(2018, 5, 1), datetime.date(2018, 12, 31), datetime.date(2017, 4, 16), datetime.date(2021, 12, 24), datetime.date(2022, 6, 24), datetime.date(2017, 6, 4), datetime.date(2015, 12, 24), datetime.date(2022, 4, 15), datetime.date(2023, 1, 6), datetime.date(2016, 12, 24), datetime.date(2016, 3, 25), datetime.date(2019, 4, 19), datetime.date(2023, 12, 24), datetime.date(2018, 12, 26), datetime.date(2015, 6, 19), datetime.date(2020, 6, 20), datetime.date(2023, 4, 10), datetime.date(2020, 4, 10), datetime.date(2015, 4, 3), datetime.date(2024, 1, 1), datetime.date(2017, 12, 26), datetime.date(2023, 4, 9), datetime.date(2024, 6, 6), datetime.date(2021, 4, 2), datetime.date(2016, 6, 24), datetime.date(2020, 12, 25), datetime.date(2018, 4, 1), datetime.date(2020, 5, 21), datetime.date(2019, 6, 6), datetime.date(2016, 11, 5), datetime.date(2023, 12, 26), datetime.date(2019, 12, 24), datetime.date(2023, 12, 31), datetime.date(2017, 12, 24), datetime.date(2022, 5, 1), datetime.date(2023, 5, 1), datetime.date(2024, 4, 1), datetime.date(2019, 12, 26), datetime.date(2023, 11, 4), datetime.date(2016, 6, 25), datetime.date(2022, 5, 26), datetime.date(2022, 12, 26), datetime.date(2023, 1, 1), datetime.date(2019, 6, 22), datetime.date(2019, 6, 9), datetime.date(2015, 4, 5), datetime.date(2018, 12, 24), datetime.date(2016, 12, 31), datetime.date(2022, 4, 18), datetime.date(2017, 1, 6), datetime.date(2017, 1, 1)}\n"
     ]
    }
   ],
   "source": [
    "import holidays\n",
    "\n",
    "years = np.arange(2015, 2025)\n",
    "\n",
    "raw_holidays = []\n",
    "for date, name in sorted(holidays.Sweden(years=years).items()):\n",
    "    if not name == \"Söndag\":\n",
    "        raw_holidays.append(date)\n",
    "        #print(date, name)\n",
    "holiday_dates = set(raw_holidays)\n",
    "print(holiday_dates)"
   ]
  },
  {
   "cell_type": "markdown",
   "id": "a08aca85",
   "metadata": {},
   "source": [
    "Now merge all load and covariate data into one data frame"
   ]
  },
  {
   "cell_type": "code",
   "execution_count": null,
   "id": "bb20e947",
   "metadata": {},
   "outputs": [
    {
     "name": "stdout",
     "output_type": "stream",
     "text": [
      "                                Time (UTC)  \\\n",
      "0      01.01.2015 00:00 - 01.01.2015 01:00   \n",
      "1      01.01.2015 01:00 - 01.01.2015 02:00   \n",
      "2      01.01.2015 02:00 - 01.01.2015 03:00   \n",
      "3      01.01.2015 03:00 - 01.01.2015 04:00   \n",
      "4      01.01.2015 04:00 - 01.01.2015 05:00   \n",
      "...                                    ...   \n",
      "87667  31.12.2024 19:00 - 31.12.2024 20:00   \n",
      "87668  31.12.2024 20:00 - 31.12.2024 21:00   \n",
      "87669  31.12.2024 21:00 - 31.12.2024 22:00   \n",
      "87670  31.12.2024 22:00 - 31.12.2024 23:00   \n",
      "87671  31.12.2024 23:00 - 01.01.2025 00:00   \n",
      "\n",
      "       Day-ahead Total Load Forecast [MW] - BZN|SE4  \\\n",
      "0                                            2718.0   \n",
      "1                                            2660.0   \n",
      "2                                            2606.0   \n",
      "3                                            2600.0   \n",
      "4                                            2642.0   \n",
      "...                                             ...   \n",
      "87667                                        2606.0   \n",
      "87668                                        2523.0   \n",
      "87669                                        2462.0   \n",
      "87670                                        2390.0   \n",
      "87671                                        2298.0   \n",
      "\n",
      "       Actual Total Load [MW] - BZN|SE4  temperature   humidity  solar  \\\n",
      "0                                2267.0     4.451320  86.611602    0.0   \n",
      "1                                2281.0     4.217264  85.613668    0.0   \n",
      "2                                2313.0     4.302403  85.022984    0.0   \n",
      "3                                2372.0     4.207889  86.857752    0.0   \n",
      "4                                2424.0     4.572334  85.142699    0.0   \n",
      "...                                 ...          ...        ...    ...   \n",
      "87667                            2414.0     5.179142  93.402829    0.0   \n",
      "87668                            2313.0     5.054718  93.775552    0.0   \n",
      "87669                            2231.0     5.103017  92.447421    0.0   \n",
      "87670                            2219.0     5.038400  92.905958    0.0   \n",
      "87671                            2168.0     5.170554  93.280124    0.0   \n",
      "\n",
      "       is_holiday          start_time            end_time  \n",
      "0               1 2015-01-01 00:00:00 2015-01-01 01:00:00  \n",
      "1               1 2015-01-01 01:00:00 2015-01-01 02:00:00  \n",
      "2               1 2015-01-01 02:00:00 2015-01-01 03:00:00  \n",
      "3               1 2015-01-01 03:00:00 2015-01-01 04:00:00  \n",
      "4               1 2015-01-01 04:00:00 2015-01-01 05:00:00  \n",
      "...           ...                 ...                 ...  \n",
      "87667           1 2024-12-31 19:00:00 2024-12-31 20:00:00  \n",
      "87668           1 2024-12-31 20:00:00 2024-12-31 21:00:00  \n",
      "87669           1 2024-12-31 21:00:00 2024-12-31 22:00:00  \n",
      "87670           1 2024-12-31 22:00:00 2024-12-31 23:00:00  \n",
      "87671           1 2024-12-31 23:00:00 2025-01-01 00:00:00  \n",
      "\n",
      "[87672 rows x 9 columns]\n"
     ]
    }
   ],
   "source": [
    "import datetime\n",
    "\n",
    "## Alternative 1: minimal data frame, possibly bad for plotting\n",
    "#data['is_holiday'] = data['Time (UTC)'].apply(\n",
    "#    lambda x: datetime.datetime.strptime(x.split(' - ')[0], '%d.%m.%Y %H:%M').date() in holiday_dates\n",
    "#).astype(int)\n",
    "\n",
    "## Alternative 2: add start_time and end_time for plotting purposes\n",
    "# Split time range into start and end\n",
    "data[['start_time', 'end_time']] = data['Time (UTC)'].str.split(' - ', expand=True)\n",
    "\n",
    "# Convert to datetime\n",
    "data['start_time'] = pd.to_datetime(data['start_time'], format='%d.%m.%Y %H:%M')\n",
    "data['end_time'] = pd.to_datetime(data['end_time'], format='%d.%m.%Y %H:%M')\n",
    "data['is_holiday'] = data['start_time'].dt.date.isin(holiday_dates).astype(int)\n",
    "data.to_csv('data.csv', index=False)\n",
    "print(data)"
   ]
  }
 ],
 "metadata": {
  "kernelspec": {
   "display_name": "dartenv",
   "language": "python",
   "name": "python3"
  },
  "language_info": {
   "codemirror_mode": {
    "name": "ipython",
    "version": 3
   },
   "file_extension": ".py",
   "mimetype": "text/x-python",
   "name": "python",
   "nbconvert_exporter": "python",
   "pygments_lexer": "ipython3",
   "version": "3.10.16"
  }
 },
 "nbformat": 4,
 "nbformat_minor": 5
}
