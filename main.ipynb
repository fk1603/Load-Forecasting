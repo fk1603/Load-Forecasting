{
 "cells": [
  {
   "cell_type": "markdown",
   "id": "59c9f191",
   "metadata": {},
   "source": [
    "# Load Forecasting\n",
    "### 1. Data manipulation"
   ]
  },
  {
   "cell_type": "code",
   "execution_count": 1,
   "id": "8a35aeb9",
   "metadata": {},
   "outputs": [],
   "source": [
    "import os\n",
    "import numpy as np\n",
    "import pandas as pd\n",
    "import matplotlib.pyplot as plt"
   ]
  },
  {
   "cell_type": "code",
   "execution_count": 2,
   "id": "e0b443ba",
   "metadata": {},
   "outputs": [
    {
     "name": "stdout",
     "output_type": "stream",
     "text": [
      "                       Time (CET/CEST)  \\\n",
      "0  01.01.2015 00:00 - 01.01.2015 01:00   \n",
      "1  01.01.2015 01:00 - 01.01.2015 02:00   \n",
      "2  01.01.2015 02:00 - 01.01.2015 03:00   \n",
      "3  01.01.2015 03:00 - 01.01.2015 04:00   \n",
      "4  01.01.2015 04:00 - 01.01.2015 05:00   \n",
      "\n",
      "   Day-ahead Total Load Forecast [MW] - BZN|SE4  \\\n",
      "0                                        2754.0   \n",
      "1                                        2718.0   \n",
      "2                                        2660.0   \n",
      "3                                        2606.0   \n",
      "4                                        2600.0   \n",
      "\n",
      "   Actual Total Load [MW] - BZN|SE4  \n",
      "0                            2343.0  \n",
      "1                            2267.0  \n",
      "2                            2281.0  \n",
      "3                            2313.0  \n",
      "4                            2372.0  \n",
      "             Timestamp  weighted_avg\n",
      "0  2015-01-01 00:00:00      4.451320\n",
      "1  2015-01-01 01:00:00      4.217264\n",
      "2  2015-01-01 02:00:00      4.302403\n",
      "3  2015-01-01 03:00:00      4.207889\n",
      "4  2015-01-01 04:00:00      4.572334\n"
     ]
    }
   ],
   "source": [
    "# Read processed load data\n",
    "base_dir = os.getcwd()\n",
    "load_file_path = os.path.join(base_dir, 'processed_load_data.csv')\n",
    "data = pd.read_csv(load_file_path)\n",
    "print(data.head())\n",
    "\n",
    "# Read processed temperature data\n",
    "temp_file_path = os.path.join(base_dir, 'weighted_avg_temp.csv')\n",
    "avg_temp_data = pd.read_csv(temp_file_path)\n",
    "print(avg_temp_data.head())\n"
   ]
  },
  {
   "cell_type": "markdown",
   "id": "050ed95b",
   "metadata": {},
   "source": [
    "In this section we implement the machine learning models. We start with our benchmark model which will later be used to compare the reaults of our 'advanced' models."
   ]
  },
  {
   "cell_type": "code",
   "execution_count": null,
   "id": "93779c21",
   "metadata": {},
   "outputs": [
    {
     "name": "stderr",
     "output_type": "stream",
     "text": [
      "DeprecationWarning: `TimeSeries.pd_dataframe()` is deprecated, and will be removed in Darts version 0.35.0. Use `TimeSeries.to_dataframe()` instead\n"
     ]
    },
    {
     "name": "stdout",
     "output_type": "stream",
     "text": [
      "component            Actual Total Load [MW] - BZN|SE4\n",
      "Timestamp                                            \n",
      "2025-01-01 00:00:00                            2325.0\n",
      "2025-01-01 01:00:00                            2214.0\n",
      "2025-01-01 02:00:00                            2102.0\n",
      "2025-01-01 03:00:00                            2115.0\n",
      "2025-01-01 04:00:00                            2250.0\n",
      "2025-01-01 05:00:00                            2337.0\n"
     ]
    },
    {
     "data": {
      "text/plain": [
       "<Axes: xlabel='Timestamp'>"
      ]
     },
     "execution_count": 9,
     "metadata": {},
     "output_type": "execute_result"
    },
    {
     "data": {
      "image/png": "[encoded data removed]",
      "text/plain": [
       "<Figure size 640x480 with 1 Axes>"
      ]
     },
     "metadata": {},
     "output_type": "display_data"
    }
   ],
   "source": [
    "from darts.models import NaiveSeasonal\n",
    "from darts import TimeSeries\n",
    "\n",
    "filepath = os.path.join(\"LoadData\", \"total_loadUTC_data.csv\")\n",
    "data = pd.read_csv(filepath)\n",
    "data = pd.read_csv(filepath)\n",
    "\n",
    "# Extract start timestamp (from \"01.01.2015 00:00 - 01.01.2015 01:00\")\n",
    "data['Timestamp'] = pd.to_datetime(\n",
    "    data['Time (UTC)'].str.split(' - ').str[0],\n",
    "    format='%d.%m.%Y %H:%M'\n",
    ")\n",
    "\n",
    "# Set timestamp as index\n",
    "data.set_index('Timestamp', inplace=True)\n",
    "\n",
    "# Select one target column only (univariate series)\n",
    "forecast_data = data['Actual Total Load [MW] - BZN|SE4']\n",
    "\n",
    "# Create TimeSeries object\n",
    "series = TimeSeries.from_series(forecast_data)\n",
    "\n",
    "model = NaiveSeasonal(K=24)\n",
    "model.fit(series)\n",
    "pred = model.predict(6) # change this to number of hours to be plotted\n",
    "print(pred.pd_dataframe())\n",
    "pred.plot(label=\"forecast\")"
   ]
  }
 ],
 "metadata": {
  "kernelspec": {
   "display_name": "dartenv",
   "language": "python",
   "name": "python3"
  },
  "language_info": {
   "codemirror_mode": {
    "name": "ipython",
    "version": 3
   },
   "file_extension": ".py",
   "mimetype": "text/x-python",
   "name": "python",
   "nbconvert_exporter": "python",
   "pygments_lexer": "ipython3",
   "version": "3.10.16"
  }
 },
 "nbformat": 4,
 "nbformat_minor": 5
}
