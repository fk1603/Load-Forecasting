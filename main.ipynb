{
 "cells": [
  {
   "cell_type": "markdown",
   "id": "59c9f191",
   "metadata": {},
   "source": [
    "# Load Forecasting\n",
    "### 1. Data manipulation"
   ]
  },
  {
   "cell_type": "code",
   "execution_count": 13,
   "id": "8a35aeb9",
   "metadata": {},
   "outputs": [],
   "source": [
    "import os\n",
    "import numpy as np\n",
    "import pandas as pd\n",
    "import matplotlib.pyplot as plt"
   ]
  },
  {
   "cell_type": "code",
   "execution_count": 14,
   "id": "e0b443ba",
   "metadata": {},
   "outputs": [
    {
     "name": "stdout",
     "output_type": "stream",
     "text": [
      "                       Time (CET/CEST)  \\\n",
      "0  01.01.2015 00:00 - 01.01.2015 01:00   \n",
      "1  01.01.2015 01:00 - 01.01.2015 02:00   \n",
      "2  01.01.2015 02:00 - 01.01.2015 03:00   \n",
      "3  01.01.2015 03:00 - 01.01.2015 04:00   \n",
      "4  01.01.2015 04:00 - 01.01.2015 05:00   \n",
      "\n",
      "   Day-ahead Total Load Forecast [MW] - BZN|SE4  \\\n",
      "0                                        2754.0   \n",
      "1                                        2718.0   \n",
      "2                                        2660.0   \n",
      "3                                        2606.0   \n",
      "4                                        2600.0   \n",
      "\n",
      "   Actual Total Load [MW] - BZN|SE4  \n",
      "0                            2343.0  \n",
      "1                            2267.0  \n",
      "2                            2281.0  \n",
      "3                            2313.0  \n",
      "4                            2372.0  \n",
      "             Timestamp  weighted_avg\n",
      "0  2015-01-01 00:00:00      4.451320\n",
      "1  2015-01-01 01:00:00      4.217264\n",
      "2  2015-01-01 02:00:00      4.302403\n",
      "3  2015-01-01 03:00:00      4.207889\n",
      "4  2015-01-01 04:00:00      4.572334\n"
     ]
    }
   ],
   "source": [
    "# Read processed load data\n",
    "base_dir = os.getcwd()\n",
    "load_file_path = os.path.join(base_dir, 'processed_load_data.csv')\n",
    "data = pd.read_csv(load_file_path)\n",
    "print(data.head())\n",
    "\n",
    "# Read processed temperature data\n",
    "temp_file_path = os.path.join(base_dir, 'weighted_avg_temp.csv')\n",
    "avg_temp_data = pd.read_csv(temp_file_path)\n",
    "print(avg_temp_data.head())\n"
   ]
  }
 ],
 "metadata": {
  "kernelspec": {
   "display_name": "Python 3",
   "language": "python",
   "name": "python3"
  },
  "language_info": {
   "codemirror_mode": {
    "name": "ipython",
    "version": 3
   },
   "file_extension": ".py",
   "mimetype": "text/x-python",
   "name": "python",
   "nbconvert_exporter": "python",
   "pygments_lexer": "ipython3",
   "version": "3.10.11"
  }
 },
 "nbformat": 4,
 "nbformat_minor": 5
}
