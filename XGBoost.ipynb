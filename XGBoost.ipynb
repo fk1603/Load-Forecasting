{
 "cells": [
  {
   "cell_type": "code",
   "execution_count": 237,
   "metadata": {},
   "outputs": [],
   "source": [
    "import os\n",
    "import numpy as np\n",
    "import pandas as pd\n",
    "import matplotlib.pyplot as plt\n",
    "from darts import TimeSeries\n",
    "from darts.metrics import mape, rmse\n",
    "import holidays\n",
    "from darts.models import XGBModel\n",
    "from statsmodels.graphics.tsaplots import plot_pacf\n",
    "import random\n",
    "from xgboost import XGBRegressor\n",
    "\n",
    "plt.rcParams['figure.figsize'] = [12, 8]\n",
    "plt.rcParams.update({'font.size': 22})"
   ]
  },
  {
   "cell_type": "code",
   "execution_count": 238,
   "metadata": {},
   "outputs": [],
   "source": [
    "def read_load_data():\n",
    "    base_dir = os.getcwd()\n",
    "    load_file_path = os.path.join(base_dir, 'processed_loadUTC_data.csv')\n",
    "    load_data = pd.read_csv(load_file_path)\n",
    "    load_data.rename(columns={\n",
    "        \"Actual Total Load [MW] - BZN|SE4\": \"Actual Load\",\n",
    "        \"Time (UTC)\": \"Time\"\n",
    "    }, inplace=True)\n",
    "    load_data['Time'] = pd.to_datetime(load_data['Time'].str.split(' - ').str[0], format='%d.%m.%Y %H:%M')\n",
    "    load_data.set_index('Time', inplace=True)\n",
    "    load_data.drop('Day-ahead Total Load Forecast [MW] - BZN|SE4', axis=1, inplace=True)\n",
    "    return load_data\n",
    "\n",
    "data = read_load_data()\n",
    "  "
   ]
  },
  {
   "cell_type": "code",
   "execution_count": 239,
   "metadata": {},
   "outputs": [],
   "source": [
    "def import_weather_data(df):\n",
    "    base_dir = os.getcwd()\n",
    "    temperature_file_path = os.path.join(base_dir, 'weighted_avg_temp.csv')\n",
    "    humidity_file_path = os.path.join(base_dir, 'weighted_avg_humidity.csv')\n",
    "    solar_file_path = os.path.join(base_dir, 'weighted_avg_solar.csv')\n",
    "    avg_temperature_data = pd.read_csv(temperature_file_path)\n",
    "    avg_humidity_data = pd.read_csv(humidity_file_path)\n",
    "    avg_solar_data = pd.read_csv(solar_file_path)\n",
    "    df['Temperature'] = avg_temperature_data['weighted_avg'].values\n",
    "    df['Humidity'] = avg_humidity_data['weighted_avg'].values\n",
    "    df['Solar'] = avg_solar_data['weighted_avg'].values\n",
    "    return df\n",
    "\n",
    "data = import_weather_data(data)"
   ]
  },
  {
   "cell_type": "code",
   "execution_count": 240,
   "metadata": {},
   "outputs": [],
   "source": [
    "def import_swedish_holidays(df):\n",
    "    years = np.arange(2015, 2025)\n",
    "    raw_holidays = []\n",
    "    for date, name in sorted(holidays.Sweden(years=years).items()):\n",
    "        #if not name == \"Söndag\":\n",
    "        #    raw_holidays.append(date)\n",
    "        raw_holidays.append(date)\n",
    "    holiday_dates = set(raw_holidays)\n",
    "    df['is_holiday'] = pd.Series(df.index.date).isin(holiday_dates).astype(int).values\n",
    "    return df\n",
    "\n",
    "data = import_swedish_holidays(data)"
   ]
  },
  {
   "cell_type": "code",
   "execution_count": 241,
   "metadata": {},
   "outputs": [],
   "source": [
    "def create_date_features(df):\n",
    "    df['hour'] = df.index.hour\n",
    "    df['dayofweek'] = df.index.dayofweek\n",
    "    df['is_weekend'] = df['dayofweek'].isin([5, 6]).astype(int)\n",
    "    return df\n",
    "\n",
    "data = create_date_features(data)"
   ]
  },
  {
   "cell_type": "markdown",
   "metadata": {},
   "source": [
    "The partial autocorrelation shows which time lags give new information for our model. Apparently, the first 25 lags and the lags after every n*24 hours (n=1,2,3,...) are important for modeling."
   ]
  },
  {
   "cell_type": "code",
   "execution_count": 134,
   "metadata": {},
   "outputs": [],
   "source": [
    "#_ = plot_pacf(data[\"Actual Load\"], lags=168) # checked autocorrelation of load for one week (hourly)"
   ]
  },
  {
   "cell_type": "code",
   "execution_count": 29,
   "metadata": {},
   "outputs": [],
   "source": [
    "def create_lag_features(df, column=\"Actual Load\"):\n",
    "    for lag in range(1, 25):  # Hourly lags\n",
    "        df[f'lag_{lag}'] = df[column].shift(lag)\n",
    "\n",
    "    for day in range(2, 8):  # Start from 2*24 = 48 to avoid lag_24 duplication\n",
    "        lag = day * 24\n",
    "        df[f'lag_{lag}'] = df[column].shift(lag)\n",
    "    return df\n",
    "\n",
    "#data = create_lag_features(data)\n",
    "#data = data.dropna() # first week in 2015 dropped to enable lag features\n",
    "#print(data.head())"
   ]
  },
  {
   "cell_type": "code",
   "execution_count": 242,
   "metadata": {},
   "outputs": [],
   "source": [
    "def add_noise_to_covariates(df, noise_level: float = 0.05):\n",
    "    stochastic_cols = [\"Temperature\", \"Humidity\", \"Solar\"]\n",
    "    df_noisy = df.copy()\n",
    "\n",
    "    for col in stochastic_cols:\n",
    "        if col in df_noisy.columns:\n",
    "            if col == \"Solar\":\n",
    "                # Proportional noise based on value (avoid large noise when value is 0)\n",
    "                base = df_noisy[col].values\n",
    "                noise = np.random.normal(0, noise_level * base)\n",
    "                df_noisy[col] += noise\n",
    "                df_noisy[col] = df_noisy[col].clip(lower=0)  # Prevent negative solar\n",
    "            else:\n",
    "                # Standard deviation-based noise\n",
    "                std = df_noisy[col].std()\n",
    "                noise = np.random.normal(0, noise_level * std, size=len(df_noisy))\n",
    "                df_noisy[col] += noise\n",
    "\n",
    "    return df_noisy\n",
    "\n",
    "\n",
    "future_data = add_noise_to_covariates(data)\n",
    "n_f = 6 #number of considered timesteps for future covariates\n",
    "n_p = 24\n",
    "future_data.index = future_data.index + pd.DateOffset(hours=n_f)"
   ]
  },
  {
   "cell_type": "code",
   "execution_count": 243,
   "metadata": {},
   "outputs": [],
   "source": [
    "def define_time_series(df, future_df, dates=['2024-01-01', '2024-12-01']):\n",
    "\n",
    "    target_col = \"Actual Load\"\n",
    "    feature_cols = [col for col in df.columns if col != target_col]\n",
    "    \n",
    "    split_dates = [pd.Timestamp(d) for d in dates]\n",
    "\n",
    "    train = df[df.index < split_dates[0]]\n",
    "    valid = df[(df.index >= (split_dates[0]- pd.DateOffset(hours=n_p))) & (df.index < split_dates[1])]\n",
    "    test = df[df.index >= (split_dates[1]- pd.DateOffset(hours=n_p))] \n",
    "    train_future = future_df[future_df.index < (split_dates[0]+ pd.DateOffset(hours=n_f))]  \n",
    "    valid_future = future_df[(future_df.index >= split_dates[0]) & (future_df.index < (split_dates[1]+ pd.DateOffset(hours=n_f)))]  \n",
    "    test_future = future_df[future_df.index >= split_dates[1]]  \n",
    "\n",
    "    train_series = TimeSeries.from_dataframe(train, value_cols=target_col, freq='h')\n",
    "    valid_series = TimeSeries.from_dataframe(valid, value_cols=target_col, freq='h')\n",
    "    test_series = TimeSeries.from_dataframe(test, value_cols=target_col, freq='h')\n",
    "    train_future_series = TimeSeries.from_dataframe(train_future, value_cols=target_col, freq='h')\n",
    "    valid_future_series = TimeSeries.from_dataframe(valid_future, value_cols=target_col, freq='h')\n",
    "    test_future_series = TimeSeries.from_dataframe(test_future, value_cols=target_col, freq='h')\n",
    "\n",
    "    train_covariates = TimeSeries.from_dataframe(train, value_cols=feature_cols, freq='h')\n",
    "    valid_covariates = TimeSeries.from_dataframe(valid, value_cols=feature_cols, freq='h')\n",
    "    test_covariates = TimeSeries.from_dataframe(test, value_cols=feature_cols, freq='h')\n",
    "    train_future_covariates = TimeSeries.from_dataframe(train_future, value_cols=feature_cols, freq='h')\n",
    "    valid_future_covariates = TimeSeries.from_dataframe(valid_future, value_cols=feature_cols, freq='h')\n",
    "    test_future_covariates = TimeSeries.from_dataframe(test_future, value_cols=feature_cols, freq='h')\n",
    "    return (\n",
    "        train_series, valid_series, test_series,\n",
    "        train_future_series, valid_future_series, test_future_series,\n",
    "        train_covariates, valid_covariates, test_covariates,\n",
    "        train_future_covariates, valid_future_covariates, test_future_covariates\n",
    "    )\n",
    "    \n",
    "(\n",
    "    train_series, valid_series, test_series,\n",
    "    train_future_series, valid_future_series, test_future_series,\n",
    "    train_covariates, valid_covariates, test_covariates,\n",
    "    train_future_covariates, valid_future_covariates, test_future_covariates\n",
    ") = define_time_series(data, future_data, dates=['2024-11-02', '2024-12-01'])"
   ]
  },
  {
   "cell_type": "code",
   "execution_count": 245,
   "metadata": {},
   "outputs": [
    {
     "ename": "IndentationError",
     "evalue": "unexpected indent (213992717.py, line 2)",
     "output_type": "error",
     "traceback": [
      "\u001b[0;36m  Cell \u001b[0;32mIn[245], line 2\u001b[0;36m\u001b[0m\n\u001b[0;31m    objective=\"reg:squarederror\",\u001b[0m\n\u001b[0m    ^\u001b[0m\n\u001b[0;31mIndentationError\u001b[0m\u001b[0;31m:\u001b[0m unexpected indent\n"
     ]
    }
   ],
   "source": [
    "#xgb_regressor = XGBRegressor(\n",
    "    objective=\"reg:squarederror\",\n",
    "    tree_method=\"hist\",         # or \"gpu_hist\" if you use GPU\n",
    "    learning_rate=0.05,\n",
    "    n_estimators=1000,\n",
    "    max_depth=6,\n",
    "    min_child_weight=5,\n",
    "    subsample=0.8,\n",
    "    colsample_bytree=0.8,\n",
    "    gamma=0.1,\n",
    "    reg_alpha=0.1,\n",
    "    reg_lambda=1,\n",
    "    verbosity=0\n",
    ")\n",
    "\n",
    "model = XGBModel(\n",
    "    lags=24,                      # past target lags\n",
    "    lags_past_covariates=24,     # past covariates (e.g., weather)\n",
    "    lags_future_covariates=6,    # future covariates (e.g., temperature forecasts)\n",
    "    output_chunk_length=24,      # predict next 24 hours\n",
    "    objective=\"reg:squarederror\",\n",
    "    tree_method=\"hist\",         # or \"gpu_hist\" if you use GPU\n",
    "    learning_rate=0.05,\n",
    "    n_estimators=1000,\n",
    "    max_depth=6,\n",
    "    min_child_weight=5,\n",
    "    subsample=0.8,\n",
    "    colsample_bytree=0.8,\n",
    "    gamma=0.1,\n",
    "    reg_alpha=0.1,\n",
    "    reg_lambda=1,\n",
    "    verbosity=0\n",
    ")\n",
    "\n",
    "model.fit(\n",
    "    train_series, \n",
    "    past_covariates=train_covariates,\n",
    "    future_covariates=train_future_covariates\n",
    ")\n",
    "\n",
    "#pred = model.predict(24)\n",
    "pred = model.predict(\n",
    "    n=24,\n",
    "    past_covariates=valid_covariates,\n",
    "    future_covariates=valid_future_covariates\n",
    ")"
   ]
  },
  {
   "cell_type": "code",
   "execution_count": null,
   "metadata": {},
   "outputs": [
    {
     "name": "stdout",
     "output_type": "stream",
     "text": [
      "nan\n"
     ]
    },
    {
     "name": "stderr",
     "output_type": "stream",
     "text": [
      "/Users/floriankuhn/Desktop/MachineLearning/Load-Forecasting/dartenv/lib/python3.10/site-packages/darts/metrics/metrics.py:2222: RuntimeWarning: Mean of empty slice\n",
      "  return np.nanmean(\n",
      "/Users/floriankuhn/Desktop/MachineLearning/Load-Forecasting/dartenv/lib/python3.10/site-packages/darts/metrics/metrics.py:372: RuntimeWarning: Mean of empty slice\n",
      "  vals = component_reduction(vals, axis=COMP_AX)\n"
     ]
    },
    {
     "data": {
      "image/png": "[encoded data removed]",
      "text/plain": [
       "<Figure size 1200x600 with 1 Axes>"
      ]
     },
     "metadata": {},
     "output_type": "display_data"
    }
   ],
   "source": [
    "# Plot actual vs predicted\n",
    "validation = test_series[n_p:(n_p+len(pred))]\n",
    "print(mape(validation, pred))\n",
    "\n",
    "plt.figure(figsize=(12, 6))\n",
    "validation.plot(label=\"Actual Load\")  # or use actual_series if that's your ground truth\n",
    "pred.plot(label=\"Forecast\")\n",
    "plt.title(\"Forecast vs Actual Load\")\n",
    "plt.xlabel(\"Time\")\n",
    "plt.ylabel(\"Load\")\n",
    "plt.legend()\n",
    "plt.grid(True)\n",
    "plt.show()\n"
   ]
  },
  {
   "cell_type": "code",
   "execution_count": null,
   "metadata": {},
   "outputs": [],
   "source": []
  }
 ],
 "metadata": {
  "kernelspec": {
   "display_name": "Python (dartenv)",
   "language": "python",
   "name": "dartenv"
  },
  "language_info": {
   "codemirror_mode": {
    "name": "ipython",
    "version": 3
   },
   "file_extension": ".py",
   "mimetype": "text/x-python",
   "name": "python",
   "nbconvert_exporter": "python",
   "pygments_lexer": "ipython3",
   "version": "3.10.16"
  }
 },
 "nbformat": 4,
 "nbformat_minor": 2
}
